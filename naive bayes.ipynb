{
 "cells": [
  {
   "cell_type": "markdown",
   "metadata": {},
   "source": [
    "# Naive Bayes Classifiers"
   ]
  },
  {
   "cell_type": "markdown",
   "metadata": {},
   "source": [
    "by: Andrzej Poniatowski"
   ]
  },
  {
   "cell_type": "code",
   "execution_count": 5,
   "metadata": {
    "scrolled": true
   },
   "outputs": [],
   "source": [
    "import pandas as pd\n",
    "import numpy as np\n",
    "from scipy import stats\n",
    "import matplotlib.pyplot as plt\n",
    "from matplotlib.ticker import MaxNLocator"
   ]
  },
  {
   "cell_type": "code",
   "execution_count": 6,
   "metadata": {
    "scrolled": true
   },
   "outputs": [],
   "source": [
    "# preprocess loads data, handles missing values and removes outliers\n",
    "def preprocess():\n",
    "    \n",
    "    #load file\n",
    "    df = pd.read_csv('datasets/' + FILE_NAME, header=None, na_values = MISSING_SYMBOL)\n",
    "    \n",
    "    #IGNORE_COLUMN is a global variable. It's a list of columns that are not to be processed\n",
    "    if len(IGNORE_COLUMN) >= 0:\n",
    "        df.drop(IGNORE_COLUMN, axis=1, inplace=True)\n",
    "    \n",
    "    # for nominal and ordinal data missing values are filled with class mode\n",
    "    if DATA_TYPE == 'NOMINAL' or DATA_TYPE == 'ORDINAL':\n",
    "        for col_with_na in df.columns[df.isna().any()].tolist():\n",
    "            df[col_with_na] = df.groupby(CLASS_COLUMN)[col_with_na].apply(lambda x: x.fillna(x.mode()[0]))\n",
    "    \n",
    "    # for numeric data missing values are filled with class median\n",
    "    elif DATA_TYPE == 'NUMERIC':\n",
    "        for col_with_na in df.columns[df.isna().any()].tolist():\n",
    "            df.fillna(df.groupby(CLASS_COLUMN).transform('median'), inplace=True)\n",
    "    \n",
    "    # preprocess handles mixed data by checking column type in global variable ATTRIBUTE_TYPE_MASK\n",
    "    # the logic for filling missing values is then same as above\n",
    "    elif DATA_TYPE == 'MIX':\n",
    "        for col_with_na in df.columns[df.isna().any()].tolist():\n",
    "            if ATTRIBUTE_TYPE_MASK[col_with_na] == 2:\n",
    "                df.fillna(df.groupby(CLASS_COLUMN).transform('median'), inplace=True)\n",
    "            else:\n",
    "                df[col_with_na] = df.groupby(CLASS_COLUMN)[col_with_na].apply(lambda x: x.fillna(x.mode()[0]))\n",
    "    \n",
    "    # here preprocess drops rows with features with Z-score higher than global variable Z_SCORE_THRESHOLD\n",
    "    df = df[(np.abs(stats.zscore(df.select_dtypes(exclude='object'))) < Z_SCORE_THRESHOLD).all(axis=1)]\n",
    "    df.reset_index(inplace=True, drop=True)\n",
    "    \n",
    "    # data is split into features (x) and labels (y)\n",
    "    x = df.drop(CLASS_COLUMN, axis=1)\n",
    "    y = df[CLASS_COLUMN]\n",
    "    \n",
    "    # function returns a tuple of features, labels and the complete data frame\n",
    "    return (x, y, df)"
   ]
  },
  {
   "cell_type": "code",
   "execution_count": 7,
   "metadata": {
    "scrolled": true
   },
   "outputs": [],
   "source": [
    "# discretise changes numeric data into nominal values by splitting it into a number of equal width bins\n",
    "\n",
    "def discretise(df, num_bins, data_type, attribute_type_mask):\n",
    "    \n",
    "    # function relies on ATTRIBUTE_TYPE_MASK to process data.\n",
    "    # the mask is only provided for mixed data, so here the function creates its own mask for the other data types\n",
    "    if data_type == 'NOMINAL' or data_type == 'ORDINAL':\n",
    "        attribute_type_mask = [0] * (df.shape[1] - 1)\n",
    "    elif data_type == 'NUMERIC':\n",
    "        attribute_type_mask = [2] * (df.shape[1] - 1)\n",
    "    \n",
    "    # split into features and labels\n",
    "    y = df[CLASS_COLUMN]\n",
    "    x = df.drop(CLASS_COLUMN, axis=1)\n",
    "    \n",
    "    # for each feature, it it's numeric replace it with one of num_bins nominal bins\n",
    "    for i in range(len(x.columns)):\n",
    "        if attribute_type_mask[i] == 2:\n",
    "            x[x.columns[i]] = pd.cut(x=x[x.columns[i]].values, bins = num_bins)\n",
    "    \n",
    "    # create a discretised_df to be returned along side a features df x and a labels series y\n",
    "    discretised_df = x.copy()\n",
    "    discretised_df[CLASS_COLUMN] = y\n",
    "    \n",
    "    # sort the columns, so their order is the same as before discretising\n",
    "    discretised_df = discretised_df.reindex(sorted(df.columns), axis=1)\n",
    "    \n",
    "    return (x, y, discretised_df)"
   ]
  },
  {
   "cell_type": "code",
   "execution_count": 8,
   "metadata": {
    "scrolled": true
   },
   "outputs": [],
   "source": [
    "# train calculates prior and posterior probabilities for nominal and ordinal data and mu and sigma for numeric data\n",
    "# results for priors are stored in a dict, posteriors are stored in dicts of dicts of dicts\n",
    "# both dicts are returned as a tuple\n",
    "\n",
    "def train(x, y, df, data_type, attribute_type_mask):\n",
    "    \n",
    "    n_samples = x.shape[0]\n",
    "    labels = y.unique().tolist()\n",
    "    n_features = len(labels)\n",
    "    \n",
    "    # for each unique label get its count and divide it by number of samples in data set to get prior probability\n",
    "    priors = {}\n",
    "    for label in labels:\n",
    "        priors[label] = df.loc[df[CLASS_COLUMN] == label, CLASS_COLUMN].count() / n_samples\n",
    "    \n",
    "    # function relies on ATTRIBUTE_TYPE_MASK to process data.\n",
    "    # the mask is only provided for mixed data, so here the function creates its own mask for the other data types\n",
    "    if data_type == 'NOMINAL' or data_type == 'ORDINAL':\n",
    "        attribute_type_mask = [0] * x.shape[1]\n",
    "    elif data_type == 'NUMERIC':\n",
    "        attribute_type_mask = [2] * x.shape[1]\n",
    "    \n",
    "    probabilities = {}\n",
    "    # iterate through each column\n",
    "    for i in range(len(x.columns)):\n",
    "        feature = x.columns[i]\n",
    "        probabilities[feature] = {}\n",
    "        \n",
    "        # for each column iterate through each label\n",
    "        for label in labels:\n",
    "            probabilities[feature][label] = {}\n",
    "            \n",
    "            # for each label in each column, if the data type is non-numeric\n",
    "            if attribute_type_mask[i] == 0 or attribute_type_mask[i] == 1:\n",
    "                # count how many times the value exists, add +1 for Laplace smoothing\n",
    "                for value in x[feature].unique():\n",
    "                    p = df.loc[(df[CLASS_COLUMN] == label) & (df[feature] == value),CLASS_COLUMN].count() + 1\n",
    "                    c = df.loc[df[CLASS_COLUMN] == label, CLASS_COLUMN].count() + len(x[feature].unique())\n",
    "                    # divide one plus count of each value by the count of the current label plus number of unique features\n",
    "                    # store probabilities in a dict of dicts of dicts\n",
    "                    probabilities[feature][label][value] = p/c\n",
    "                    \n",
    "            # for each label in each column if the data type is numeric\n",
    "            elif attribute_type_mask[i] == 2:\n",
    "                # calculate mean and std, store them in dict of dicts of dicts\n",
    "                probabilities[feature][label]['mu'] = df.loc[df[CLASS_COLUMN] == label, feature].mean()\n",
    "                sigma = df.loc[df[CLASS_COLUMN] == label, feature].std()\n",
    "                probabilities[feature][label]['sigma'] = df.loc[df[CLASS_COLUMN] == label, feature].std()\n",
    "    \n",
    "    # return a tuple of dicitonaries containing priors and probabilities\n",
    "    return (priors, probabilities)"
   ]
  },
  {
   "cell_type": "code",
   "execution_count": 9,
   "metadata": {
    "scrolled": true
   },
   "outputs": [],
   "source": [
    "# Predict classes for items in a test dataset\n",
    "\n",
    "def predict(test_data, priors, probabilities, data_type, attribute_type_mask):\n",
    "    \n",
    "    labels = list(priors.keys())\n",
    "    columns = test_data.columns\n",
    "    predicted_classes = []\n",
    "    n_samples = test_data.shape[0]\n",
    "    \n",
    "    # function relies on ATTRIBUTE_TYPE_MASK to process data.\n",
    "    # the mask is only provided for mixed data, so here the function creates its own mask for the other data types\n",
    "    if data_type == 'NOMINAL' or data_type == 'ORDINAL':\n",
    "        attribute_type_mask = [0] * n_samples\n",
    "    elif data_type == 'NUMERIC':\n",
    "        attribute_type_mask = [2] * n_samples\n",
    "    \n",
    "    # iterate through each row of data\n",
    "    for index, row in test_data.iterrows():\n",
    "        max_probability = float('-inf')\n",
    "        max_label = ''\n",
    "        \n",
    "        # iterate through each unique label for each row of data\n",
    "        for label in labels:\n",
    "            # retrieve the prior\n",
    "            current_probability = np.log(priors[label])\n",
    "\n",
    "            # iterate through each feature\n",
    "            for i in range(len(columns)):\n",
    "                column = columns[i]\n",
    "                \n",
    "                # check the data type of the feature, if non-numeric add log of probability to current_probability\n",
    "                if attribute_type_mask[i] == 0 or attribute_type_mask[i] == 1:\n",
    "                    current_probability += np.log(probabilities[column][label][row[column]])\n",
    "                \n",
    "                # if numeric, use Gaussian distribution to obtain the probability\n",
    "                elif attribute_type_mask[i] == 2:\n",
    "                    mu = probabilities[column][label]['mu']\n",
    "                    sigma = probabilities[column][label]['sigma']\n",
    "                    current_probability += np.log(\n",
    "                        (1 / (sigma * np.sqrt(2 * np.pi)))\n",
    "                        *(np.power(np.e, -0.5 * np.power(((row[column] - mu) / sigma), 2))))\n",
    "            \n",
    "            # the current_probability is higher than the highest one obtained so far for this row\n",
    "            # overwrite the probability and label with current values\n",
    "            if current_probability > max_probability:\n",
    "                max_label = label\n",
    "                max_probability = current_probability\n",
    "        \n",
    "        # add the predicted class to the list of predicted classes\n",
    "        predicted_classes.append(max_label)\n",
    "    \n",
    "    return predicted_classes"
   ]
  },
  {
   "cell_type": "code",
   "execution_count": 10,
   "metadata": {
    "scrolled": true
   },
   "outputs": [],
   "source": [
    "# evaluates the performance of a prediction\n",
    "\n",
    "def evaluate(predictions, ground_truths):\n",
    "    predictions = list(predictions)\n",
    "    labels = ground_truths.unique()\n",
    "    num_labels = len(labels)\n",
    "    \n",
    "    # list of ints for storing counts for true/false positives/negatives.\n",
    "    # a list of ints, rather than just ints to enable one v many evaluation\n",
    "    TP = [0] * num_labels\n",
    "    TN = [0] * num_labels\n",
    "    FP = [0] * num_labels\n",
    "    FN = [0] * num_labels\n",
    "    \n",
    "    # iterate through each label (for one v many comparisons)\n",
    "    for i in range(num_labels):\n",
    "        #iterate through each row and store the TP/FP/TN/FN in respective lists\n",
    "        for j in range(len(predictions)):\n",
    "            if ground_truths[j] == predictions[j] == labels[i]:\n",
    "                TP[i] += 1\n",
    "            elif ground_truths[j] == predictions[j] and predictions[j] != labels[i]:\n",
    "                TN[i] += 1\n",
    "            elif ground_truths[j] != predictions[j] and predictions[j] == labels[i]:\n",
    "                FP[i] += 1\n",
    "            elif ground_truths[j] != predictions[j] and predictions[j] != labels[i]:\n",
    "                FN[i] += 1\n",
    "    \n",
    "    # calculate accuracy\n",
    "    accuracy = (sum(TP) + sum(TN)) / (sum(TP) + sum(TN) + sum(FP) + sum(FN))\n",
    "    \n",
    "    # calculate precision\n",
    "    precision = 0\n",
    "    for i in range(len(TP)):\n",
    "        # check for existence of TP to avoid divide by zero errors\n",
    "        if TP[i] == 0:\n",
    "            continue\n",
    "        else:\n",
    "            precision += TP[i] / (TP[i]+FP[i])\n",
    "    precision /= len(TP)\n",
    "    \n",
    "    # calculate recall\n",
    "    recall = 0\n",
    "    for i in range(len(TP)):\n",
    "        # check for existence of TP to avoid divide by zero errors\n",
    "        if TP[i] == 0:\n",
    "            continue\n",
    "        recall += TP[i] / (TP[i] + FN[i])\n",
    "    recall /= len(TP)\n",
    "    \n",
    "    # print out results\n",
    "    print('Accuracy: {:.3f}'.format(accuracy))\n",
    "    print('Precision: {:.3f}'.format(precision))\n",
    "    print('Recall: {:.3f}'.format(recall))\n",
    "    \n",
    "    # return result values in a tuple\n",
    "    return (accuracy, precision, recall)"
   ]
  },
  {
   "cell_type": "code",
   "execution_count": 12,
   "metadata": {
    "scrolled": true
   },
   "outputs": [
    {
     "name": "stdout",
     "output_type": "stream",
     "text": [
      "Accuracy: 0.989\n",
      "Precision: 0.989\n",
      "Recall: 0.977\n"
     ]
    }
   ],
   "source": [
    "# all the global variables and functions needed to run the code in one cell\n",
    "\n",
    "# name of file to load\n",
    "FILE_NAME = 'wine.data'\n",
    "# column containing labels (zero indexed)\n",
    "CLASS_COLUMN = 0\n",
    "# symbol used to denote missing values\n",
    "MISSING_SYMBOL = '?'\n",
    "# list of column indexes to be ignored\n",
    "IGNORE_COLUMN = []\n",
    "# data type: one of NOMINAL, ORDINAL, NUMERIC or MIX\n",
    "DATA_TYPE = 'NUMERIC'\n",
    "# list of ints standing for data types in mixed datasets (0=nominal, 1=ordinal, 2=numeric), empty list for non-MIX data sets\n",
    "ATTRIBUTE_TYPE_MASK = []\n",
    "# Rows with values with a Z-score greater than this value are discarded\n",
    "Z_SCORE_THRESHOLD = 5\n",
    "\n",
    "x, y, df = preprocess()\n",
    "\n",
    "priors, probabilities = train(x, y, df, DATA_TYPE, ATTRIBUTE_TYPE_MASK)\n",
    "\n",
    "predicted_classes = predict(x, priors, probabilities, DATA_TYPE, ATTRIBUTE_TYPE_MASK)\n",
    "\n",
    "acc, prec, rec = evaluate(predicted_classes, y)"
   ]
  },
  {
   "cell_type": "markdown",
   "metadata": {},
   "source": [
    "### Comparing performance of discretising numeric attributes vs a Gaussian Naive Bayes approach"
   ]
  },
  {
   "cell_type": "code",
   "execution_count": 13,
   "metadata": {
    "scrolled": true
   },
   "outputs": [
    {
     "name": "stdout",
     "output_type": "stream",
     "text": [
      "Results for 2 buckets\n",
      "Accuracy: 0.904\n",
      "Precision: 0.903\n",
      "Recall: 0.823\n",
      "\n",
      "Results for 3 buckets\n",
      "Accuracy: 0.961\n",
      "Precision: 0.960\n",
      "Recall: 0.923\n",
      "\n",
      "Results for 4 buckets\n",
      "Accuracy: 0.955\n",
      "Precision: 0.953\n",
      "Recall: 0.915\n",
      "\n",
      "Results for 5 buckets\n",
      "Accuracy: 0.983\n",
      "Precision: 0.983\n",
      "Recall: 0.966\n",
      "\n",
      "Results for 6 buckets\n",
      "Accuracy: 0.989\n",
      "Precision: 0.988\n",
      "Recall: 0.978\n",
      "\n",
      "Results for 7 buckets\n",
      "Accuracy: 0.978\n",
      "Precision: 0.977\n",
      "Recall: 0.956\n",
      "\n",
      "Results for 8 buckets\n",
      "Accuracy: 0.989\n",
      "Precision: 0.988\n",
      "Recall: 0.978\n",
      "\n",
      "Results for 9 buckets\n",
      "Accuracy: 0.989\n",
      "Precision: 0.988\n",
      "Recall: 0.978\n",
      "\n",
      "Results for 10 buckets\n",
      "Accuracy: 0.989\n",
      "Precision: 0.988\n",
      "Recall: 0.978\n",
      "\n",
      "Results for 11 buckets\n",
      "Accuracy: 0.989\n",
      "Precision: 0.988\n",
      "Recall: 0.978\n",
      "\n",
      "Results for 12 buckets\n",
      "Accuracy: 0.989\n",
      "Precision: 0.988\n",
      "Recall: 0.978\n",
      "\n",
      "Results for 13 buckets\n",
      "Accuracy: 0.983\n",
      "Precision: 0.982\n",
      "Recall: 0.967\n",
      "\n",
      "Results for 14 buckets\n",
      "Accuracy: 0.989\n",
      "Precision: 0.988\n",
      "Recall: 0.978\n",
      "\n",
      "Results for 15 buckets\n",
      "Accuracy: 0.983\n",
      "Precision: 0.982\n",
      "Recall: 0.967\n",
      "\n",
      "Results for 16 buckets\n",
      "Accuracy: 0.994\n",
      "Precision: 0.994\n",
      "Recall: 0.989\n",
      "\n",
      "Results for 17 buckets\n",
      "Accuracy: 0.989\n",
      "Precision: 0.988\n",
      "Recall: 0.978\n",
      "\n",
      "Results for 18 buckets\n",
      "Accuracy: 0.983\n",
      "Precision: 0.982\n",
      "Recall: 0.967\n",
      "\n",
      "Results for 19 buckets\n",
      "Accuracy: 0.989\n",
      "Precision: 0.989\n",
      "Recall: 0.977\n",
      "\n"
     ]
    }
   ],
   "source": [
    "# prints out accuracy, precision and recall for each bucket size stored in the BUCKETS list\n",
    "\n",
    "FILE_NAME = 'wine.data'\n",
    "CLASS_COLUMN = 0\n",
    "MISSING_SYMBOL = '?'\n",
    "IGNORE_COLUMN = []\n",
    "BUCKETS = range(2,20)\n",
    "\n",
    "# performance values for each bucket count are stored in these lists for graphing later\n",
    "disc_acc = []\n",
    "disc_prec = []\n",
    "disc_rec = []\n",
    "\n",
    "for i in BUCKETS:\n",
    "    DATA_TYPE = 'NUMERIC'\n",
    "    ATTRIBUTE_TYPE_MASK = []\n",
    "\n",
    "    x, y, df = preprocess()\n",
    "\n",
    "    x, y, df = discretise(df, i, DATA_TYPE, ATTRIBUTE_TYPE_MASK)\n",
    "    \n",
    "    # switch data type to nminal after discretising so that the following functions know that data type has changed\n",
    "    DATA_TYPE = 'NOMINAL'\n",
    "    \n",
    "    priors, probabilities = train(x, y, df, DATA_TYPE, ATTRIBUTE_TYPE_MASK)\n",
    "    \n",
    "    predicted_classes = predict(x, priors, probabilities, DATA_TYPE, ATTRIBUTE_TYPE_MASK)\n",
    "    print('Results for {:d} buckets'.format(i))\n",
    "    t_acc, t_prec, t_rec = evaluate(predicted_classes, y)\n",
    "    disc_acc.append(t_acc)\n",
    "    disc_prec.append(t_prec)\n",
    "    disc_rec.append(t_rec)\n",
    "    print()"
   ]
  },
  {
   "cell_type": "code",
   "execution_count": 14,
   "metadata": {
    "scrolled": false
   },
   "outputs": [
    {
     "data": {
      "image/png": "[encoded data removed]",
      "text/plain": [
       "<Figure size 432x288 with 1 Axes>"
      ]
     },
     "metadata": {
      "needs_background": "light"
     },
     "output_type": "display_data"
    },
    {
     "data": {
      "image/png": "[encoded data removed]",
      "text/plain": [
       "<Figure size 432x288 with 1 Axes>"
      ]
     },
     "metadata": {
      "needs_background": "light"
     },
     "output_type": "display_data"
    },
    {
     "data": {
      "image/png": "[encoded data removed]",
      "text/plain": [
       "<Figure size 432x288 with 1 Axes>"
      ]
     },
     "metadata": {
      "needs_background": "light"
     },
     "output_type": "display_data"
    }
   ],
   "source": [
    "# graph the performance metrics of discretised vs continuous data\n",
    "\n",
    "plt.plot(BUCKETS, disc_acc, '-', label = 'Discretised data')\n",
    "plt.plot(BUCKETS, [acc] * len(BUCKETS), label = 'Continuous data')\n",
    "plt.legend()\n",
    "plt.title(FILE_NAME)\n",
    "plt.ylabel('Accuracy')\n",
    "plt.xlabel('Number of buckets')\n",
    "bottom, top = plt.ylim()\n",
    "plt.xticks(BUCKETS)\n",
    "plt.ylim(bottom, 1)\n",
    "plt.show()\n",
    "\n",
    "plt.plot(BUCKETS, disc_prec, '-', label = 'Discretised data')\n",
    "plt.plot(BUCKETS, [prec] * len(BUCKETS), label = 'Continuous data')\n",
    "plt.legend()\n",
    "plt.title(FILE_NAME)\n",
    "plt.ylabel('Precision')\n",
    "plt.xlabel('Number of buckets')\n",
    "bottom, top = plt.ylim()\n",
    "plt.xticks(BUCKETS)\n",
    "plt.ylim(bottom, 1)\n",
    "plt.show()\n",
    "\n",
    "plt.plot(BUCKETS, disc_rec, '-', label = 'Discretised data')\n",
    "plt.plot(BUCKETS, [rec] * len(BUCKETS), label = 'Continuous data')\n",
    "plt.legend()\n",
    "plt.title(FILE_NAME)\n",
    "plt.ylabel('Recall')\n",
    "plt.xlabel('Number of buckets')\n",
    "bottom, top = plt.ylim()\n",
    "plt.xticks(BUCKETS)\n",
    "plt.ylim(bottom, 1)\n",
    "plt.show()"
   ]
  },
  {
   "cell_type": "markdown",
   "metadata": {},
   "source": [
    "### Implementing and comparing baseline model (R0) performance with the Naive Bayes classifier"
   ]
  },
  {
   "cell_type": "code",
   "execution_count": 19,
   "metadata": {
    "scrolled": true
   },
   "outputs": [],
   "source": [
    "def r_zero(df):\n",
    "    base_label = list(df[CLASS_COLUMN].mode())\n",
    "    \n",
    "    base_line = base_label * df.shape[0]\n",
    "    return base_line"
   ]
  },
  {
   "cell_type": "code",
   "execution_count": 28,
   "metadata": {},
   "outputs": [
    {
     "name": "stdout",
     "output_type": "stream",
     "text": [
      "Wine data set:\n",
      "NB performance:\n",
      "Accuracy: 0.989\n",
      "Precision: 0.989\n",
      "Recall: 0.977\n",
      "\n",
      "R0 performance:\n",
      "Accuracy: 0.399\n",
      "Precision: 0.133\n",
      "Recall: 0.333\n",
      "\n",
      "NB accuracy 0.59 higher than R0\n",
      "NB precision 0.86 higher than R0\n",
      "NB recall 0.64 higher than R0\n"
     ]
    }
   ],
   "source": [
    "FILE_NAME = 'wine.data'\n",
    "CLASS_COLUMN = 0\n",
    "MISSING_SYMBOL = '?'\n",
    "IGNORE_COLUMN = []\n",
    "DATA_TYPE = 'NUMERIC'\n",
    "ATTRIBUTE_TYPE_MASK = []\n",
    "Z_SCORE_THRESHOLD = 5\n",
    "\n",
    "x, y, df = preprocess()\n",
    "\n",
    "priors, probabilities = train(x, y, df, DATA_TYPE, ATTRIBUTE_TYPE_MASK)\n",
    "\n",
    "predicted_classes = predict(x, priors, probabilities, DATA_TYPE, ATTRIBUTE_TYPE_MASK)\n",
    "print('Wine data set:')\n",
    "print(\"NB performance:\")\n",
    "acc, prec, rec = evaluate(predicted_classes, y)\n",
    "print()\n",
    "print(\"R0 performance:\")\n",
    "base_line = r_zero(df)\n",
    "b_acc, b_prec, b_rec = evaluate(base_line, y)\n",
    "print()\n",
    "print(\"NB accuracy {:.2f} higher than R0\".format(acc-b_acc))\n",
    "print(\"NB precision {:.2f} higher than R0\".format(prec-b_prec))\n",
    "print(\"NB recall {:.2f} higher than R0\".format(rec-b_rec))"
   ]
  },
  {
   "cell_type": "code",
   "execution_count": 33,
   "metadata": {},
   "outputs": [
    {
     "name": "stdout",
     "output_type": "stream",
     "text": [
      "Mushroom data set:\n",
      "NB performance:\n",
      "Accuracy: 0.956\n",
      "Precision: 0.960\n",
      "Recall: 0.955\n",
      "\n",
      "R0 performance:\n",
      "Accuracy: 0.518\n",
      "Precision: 0.259\n",
      "Recall: 0.500\n",
      "\n",
      "NB accuracy 0.44 higher than R0\n",
      "NB precision 0.70 higher than R0\n",
      "NB recall 0.45 higher than R0\n"
     ]
    }
   ],
   "source": [
    "FILE_NAME = 'mushroom.data'\n",
    "CLASS_COLUMN = 0\n",
    "MISSING_SYMBOL = '?'\n",
    "IGNORE_COLUMN = []\n",
    "DATA_TYPE = 'NOMINAL'\n",
    "ATTRIBUTE_TYPE_MASK = []\n",
    "Z_SCORE_THRESHOLD = 5\n",
    "\n",
    "x, y, df = preprocess()\n",
    "\n",
    "priors, probabilities = train(x, y, df, DATA_TYPE, ATTRIBUTE_TYPE_MASK)\n",
    "\n",
    "predicted_classes = predict(x, priors, probabilities, DATA_TYPE, ATTRIBUTE_TYPE_MASK)\n",
    "print('Mushroom data set:')\n",
    "print(\"NB performance:\")\n",
    "acc, prec, rec = evaluate(predicted_classes, y)\n",
    "print()\n",
    "print(\"R0 performance:\")\n",
    "base_line = r_zero(df)\n",
    "b_acc, b_prec, b_rec = evaluate(base_line, y)\n",
    "print()\n",
    "print(\"NB accuracy {:.2f} higher than R0\".format(acc-b_acc))\n",
    "print(\"NB precision {:.2f} higher than R0\".format(prec-b_prec))\n",
    "print(\"NB recall {:.2f} higher than R0\".format(rec-b_rec))"
   ]
  },
  {
   "cell_type": "code",
   "execution_count": 36,
   "metadata": {},
   "outputs": [
    {
     "name": "stdout",
     "output_type": "stream",
     "text": [
      "Car data set:\n",
      "NB performance:\n",
      "Accuracy: 0.872\n",
      "Precision: 0.804\n",
      "Recall: 0.466\n",
      "\n",
      "R0 performance:\n",
      "Accuracy: 0.700\n",
      "Precision: 0.175\n",
      "Recall: 0.250\n",
      "\n",
      "NB accuracy 0.17 higher than R0\n",
      "NB precision 0.63 higher than R0\n",
      "NB recall 0.22 higher than R0\n"
     ]
    }
   ],
   "source": [
    "FILE_NAME = 'car.data'\n",
    "CLASS_COLUMN = 6\n",
    "MISSING_SYMBOL = '?'\n",
    "IGNORE_COLUMN = []\n",
    "DATA_TYPE = 'ORDINAL'\n",
    "ATTRIBUTE_TYPE_MASK = []\n",
    "Z_SCORE_THRESHOLD = 5\n",
    "\n",
    "x, y, df = preprocess()\n",
    "\n",
    "priors, probabilities = train(x, y, df, DATA_TYPE, ATTRIBUTE_TYPE_MASK)\n",
    "\n",
    "predicted_classes = predict(x, priors, probabilities, DATA_TYPE, ATTRIBUTE_TYPE_MASK)\n",
    "print('Car data set:')\n",
    "print(\"NB performance:\")\n",
    "acc, prec, rec = evaluate(predicted_classes, y)\n",
    "print()\n",
    "print(\"R0 performance:\")\n",
    "base_line = r_zero(df)\n",
    "b_acc, b_prec, b_rec = evaluate(base_line, y)\n",
    "print()\n",
    "print(\"NB accuracy {:.2f} higher than R0\".format(acc-b_acc))\n",
    "print(\"NB precision {:.2f} higher than R0\".format(prec-b_prec))\n",
    "print(\"NB recall {:.2f} higher than R0\".format(rec-b_rec))"
   ]
  },
  {
   "cell_type": "code",
   "execution_count": 37,
   "metadata": {},
   "outputs": [
    {
     "name": "stdout",
     "output_type": "stream",
     "text": [
      "Adult data set:\n",
      "NB performance:\n",
      "Accuracy: 0.834\n",
      "Precision: 0.773\n",
      "Recall: 0.743\n",
      "\n",
      "R0 performance:\n",
      "Accuracy: 0.765\n",
      "Precision: 0.383\n",
      "Recall: 0.500\n",
      "\n",
      "NB accuracy 0.07 higher than R0\n",
      "NB precision 0.39 higher than R0\n",
      "NB recall 0.24 higher than R0\n"
     ]
    }
   ],
   "source": [
    "FILE_NAME = 'adult.data'\n",
    "CLASS_COLUMN = 14\n",
    "MISSING_SYMBOL = '?'\n",
    "IGNORE_COLUMN = []\n",
    "DATA_TYPE = 'MIX'\n",
    "ATTRIBUTE_TYPE_MASK = [2, 0, 2, 1, 1, 0, 0, 0, 0, 0, 2, 2, 2, 0]\n",
    "Z_SCORE_THRESHOLD = 5\n",
    "\n",
    "x, y, df = preprocess()\n",
    "\n",
    "priors, probabilities = train(x, y, df, DATA_TYPE, ATTRIBUTE_TYPE_MASK)\n",
    "\n",
    "predicted_classes = predict(x, priors, probabilities, DATA_TYPE, ATTRIBUTE_TYPE_MASK)\n",
    "print('Adult data set:')\n",
    "print(\"NB performance:\")\n",
    "acc, prec, rec = evaluate(predicted_classes, y)\n",
    "print()\n",
    "print(\"R0 performance:\")\n",
    "base_line = r_zero(df)\n",
    "b_acc, b_prec, b_rec = evaluate(base_line, y)\n",
    "print()\n",
    "print(\"NB accuracy {:.2f} higher than R0\".format(acc-b_acc))\n",
    "print(\"NB precision {:.2f} higher than R0\".format(prec-b_prec))\n",
    "print(\"NB recall {:.2f} higher than R0\".format(rec-b_rec))"
   ]
  }
 ],
 "metadata": {
  "kernelspec": {
   "display_name": "Python 3",
   "language": "python",
   "name": "python3"
  },
  "language_info": {
   "codemirror_mode": {
    "name": "ipython",
    "version": 3
   },
   "file_extension": ".py",
   "mimetype": "text/x-python",
   "name": "python",
   "nbconvert_exporter": "python",
   "pygments_lexer": "ipython3",
   "version": "3.7.4"
  }
 },
 "nbformat": 4,
 "nbformat_minor": 4
}
